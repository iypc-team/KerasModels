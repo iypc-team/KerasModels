{
 "cells": [
  {
   "cell_type": "code",
   "execution_count": null,
   "id": "e5a5c04a",
   "metadata": {},
   "outputs": [],
   "source": [
    "# 12/12/2021-1\n",
    "# https://www.tensorflow.org/hub/tutorials/tf2_image_retraining\n",
    "from __future__ import absolute_import\n",
    "from IPython.display import clear_output\n",
    "import os\n",
    "os.environ['TF_CPP_MIN_LOG_LEVEL'] = '2'\n",
    "from os.path import exists, join\n",
    "\n",
    "contentPath = os.getcwd()\n",
    "cv2Path=join(contentPath, 'CV2Images')\n",
    "testPath=join(contentPath, 'images')\n",
    "checkpointPath = join(contentPath, 'ChkPoints')\n",
    "if not exists(checkpointPath):\n",
    "    pass\n",
    "    # os.makedirs(checkpointPath)\n",
    "\n",
    "import itertools\n",
    "import glob, os, time\n",
    "from time import sleep\n",
    "\n",
    "import matplotlib.pylab as plt\n",
    "import numpy as np\n",
    "\n",
    "import tensorflow as tf\n",
    "import tensorflow_hub as hub\n",
    "\n",
    "for fil in glob.glob('*.h5'):\n",
    "    print(fil)\n",
    "\n",
    "print(\"TF version:\", tf.__version__)\n",
    "print(\"Hub version:\", hub.__version__)\n",
    "print(\"GPU is\", \"available\" if tf.config.list_physical_devices('GPU') else \"NOT AVAILABLE\")\n",
    "print('cwd: ', os.getcwd())"
   ]
  },
  {
   "cell_type": "code",
   "execution_count": null,
   "id": "fbf4b976",
   "metadata": {},
   "outputs": [],
   "source": [
    "# import tensorflow.keras.preprocessing.image_dataset_from_directory\n",
    "test_ds = tf.keras.preprocessing.image_dataset_from_directory(\n",
    "    testPath,\n",
    "    color_mode='rgb',\n",
    "    image_size=(224, 224),\n",
    "    batch_size = 1)\n",
    "# clear_output()"
   ]
  },
  {
   "cell_type": "code",
   "execution_count": null,
   "id": "40de2029",
   "metadata": {},
   "outputs": [],
   "source": [
    "IMAGE_SIZE=(224, 224)\n",
    "BATCH_SIZE = 4\n",
    "\n",
    "import tensorflow\n",
    "from tensorflow.keras.utils import image_dataset_from_directory\n",
    "\n",
    "class_names = tuple(test_ds.class_names)\n",
    "train_size = test_ds.cardinality().numpy()\n",
    "test_ds = test_ds.unbatch().batch(BATCH_SIZE)\n",
    "test_ds = test_ds.repeat()\n",
    "test_ds\n",
    "\n",
    "# normalization_layer = tf.keras.layers.Rescaling(1. / 255)\n",
    "# preprocessing_model = tf.keras.Sequential([normalization_layer])"
   ]
  },
  {
   "cell_type": "code",
   "execution_count": null,
   "id": "69f07ccd",
   "metadata": {},
   "outputs": [],
   "source": [
    "\n",
    "import cv2\n",
    "from CV2_Utils import *\n",
    "modelPath = join(contentPath, \"Defcon4_V1.h5\")\n",
    "newModel = tf.keras.models.load_model(modelPath, compile=True)\n",
    "# newModel.summary()\n",
    "# element=test_ds.get_single_element()\n",
    "img = test_ds.take(1)\n",
    "# cvu.plotShowSingleImage(img)\n",
    "print(type(img))\n"
   ]
  },
  {
   "cell_type": "code",
   "execution_count": null,
   "id": "4fc5fe25",
   "metadata": {},
   "outputs": [],
   "source": []
  },
  {
   "cell_type": "code",
   "execution_count": null,
   "id": "6d55b839",
   "metadata": {},
   "outputs": [],
   "source": []
  }
 ],
 "metadata": {
  "kernelspec": {
   "display_name": "Python 3 (ipykernel)",
   "language": "python",
   "name": "python3"
  },
  "language_info": {
   "codemirror_mode": {
    "name": "ipython",
    "version": 3
   },
   "file_extension": ".py",
   "mimetype": "text/x-python",
   "name": "python",
   "nbconvert_exporter": "python",
   "pygments_lexer": "ipython3",
   "version": "3.7.12"
  }
 },
 "nbformat": 4,
 "nbformat_minor": 5
}
